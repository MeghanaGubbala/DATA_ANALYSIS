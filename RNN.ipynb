{
  "nbformat": 4,
  "nbformat_minor": 0,
  "metadata": {
    "colab": {
      "provenance": []
    },
    "kernelspec": {
      "name": "python3",
      "display_name": "Python 3"
    },
    "language_info": {
      "name": "python"
    }
  },
  "cells": [
    {
      "cell_type": "code",
      "execution_count": 1,
      "metadata": {
        "id": "ZJgA6FO_Ssuc"
      },
      "outputs": [],
      "source": [
        "import numpy as np\n",
        "from keras.models import Sequential\n",
        "from keras.layers import SimpleRNN, Dense, Embedding\n",
        "from keras.preprocessing.text import Tokenizer\n",
        "from keras.preprocessing.sequence import pad_sequences\n",
        "from keras.utils import to_categorical\n",
        "\n",
        "# Generating some example sequential data\n",
        "sentences = ['I love learning','I love python','I hate school',\n",
        "             'Recurrent Neural Networks are powerful']\n",
        "# Tokenizing the words\n",
        "tokenizer = Tokenizer()\n",
        "tokenizer.fit_on_texts(sentences)\n",
        "total_words = len(tokenizer.word_index) + 1\n",
        "\n",
        "# Creating input sequences and their corresponding next words\n",
        "input_sequences = []\n",
        "for sentence in sentences:\n",
        "    tokenized_sentence = tokenizer.texts_to_sequences([sentence])[0]\n",
        "    for i in range(1, len(tokenized_sentence)):\n",
        "        n_gram_sequence = tokenized_sentence[:i+1]\n",
        "        input_sequences.append(n_gram_sequence)\n",
        "\n",
        "# Padding sequences for consistent input size\n",
        "max_sequence_length = max([len(seq) for seq in input_sequences])\n",
        "input_sequences = pad_sequences(input_sequences, maxlen=max_sequence_length, padding='pre')\n",
        "\n",
        "# Creating input and output data\n",
        "X, y = input_sequences[:, :-1], input_sequences[:, -1]\n",
        "y = to_categorical(y, num_classes=total_words)\n"
      ]
    },
    {
      "cell_type": "code",
      "source": [
        "# Building a simple RNN model\n",
        "model = Sequential()\n",
        "model.add(Embedding(input_dim=total_words, output_dim=50, input_length=max_sequence_length-1))\n",
        "model.add(SimpleRNN(100, return_sequences=True))\n",
        "model.add(SimpleRNN(100))\n",
        "model.add(Dense(total_words, activation='softmax'))\n",
        "\n",
        "# Compiling the model\n",
        "model.compile(optimizer='adam', loss='categorical_crossentropy', metrics=['accuracy'])\n",
        "\n",
        "# Training the model\n",
        "model.fit(X, y, epochs=50, verbose=2)\n",
        "\n",
        "\n"
      ],
      "metadata": {
        "colab": {
          "base_uri": "https://localhost:8080/"
        },
        "id": "cf2MvX9KS4O-",
        "outputId": "2111a7da-fb48-4b10-8cbf-7984e8c1ec7d"
      },
      "execution_count": 2,
      "outputs": [
        {
          "output_type": "stream",
          "name": "stdout",
          "text": [
            "Epoch 1/50\n",
            "1/1 - 4s - loss: 2.4647 - accuracy: 0.1000 - 4s/epoch - 4s/step\n",
            "Epoch 2/50\n",
            "1/1 - 0s - loss: 2.3735 - accuracy: 0.4000 - 14ms/epoch - 14ms/step\n",
            "Epoch 3/50\n",
            "1/1 - 0s - loss: 2.2847 - accuracy: 0.4000 - 21ms/epoch - 21ms/step\n",
            "Epoch 4/50\n",
            "1/1 - 0s - loss: 2.1964 - accuracy: 0.4000 - 20ms/epoch - 20ms/step\n",
            "Epoch 5/50\n",
            "1/1 - 0s - loss: 2.1080 - accuracy: 0.4000 - 14ms/epoch - 14ms/step\n",
            "Epoch 6/50\n",
            "1/1 - 0s - loss: 2.0204 - accuracy: 0.4000 - 13ms/epoch - 13ms/step\n",
            "Epoch 7/50\n",
            "1/1 - 0s - loss: 1.9352 - accuracy: 0.4000 - 16ms/epoch - 16ms/step\n",
            "Epoch 8/50\n",
            "1/1 - 0s - loss: 1.8538 - accuracy: 0.4000 - 13ms/epoch - 13ms/step\n",
            "Epoch 9/50\n",
            "1/1 - 0s - loss: 1.7758 - accuracy: 0.4000 - 13ms/epoch - 13ms/step\n",
            "Epoch 10/50\n",
            "1/1 - 0s - loss: 1.6997 - accuracy: 0.4000 - 13ms/epoch - 13ms/step\n",
            "Epoch 11/50\n",
            "1/1 - 0s - loss: 1.6250 - accuracy: 0.4000 - 15ms/epoch - 15ms/step\n",
            "Epoch 12/50\n",
            "1/1 - 0s - loss: 1.5535 - accuracy: 0.4000 - 15ms/epoch - 15ms/step\n",
            "Epoch 13/50\n",
            "1/1 - 0s - loss: 1.4886 - accuracy: 0.6000 - 13ms/epoch - 13ms/step\n",
            "Epoch 14/50\n",
            "1/1 - 0s - loss: 1.4314 - accuracy: 0.6000 - 13ms/epoch - 13ms/step\n",
            "Epoch 15/50\n",
            "1/1 - 0s - loss: 1.3795 - accuracy: 0.6000 - 12ms/epoch - 12ms/step\n",
            "Epoch 16/50\n",
            "1/1 - 0s - loss: 1.3290 - accuracy: 0.6000 - 13ms/epoch - 13ms/step\n",
            "Epoch 17/50\n",
            "1/1 - 0s - loss: 1.2786 - accuracy: 0.6000 - 12ms/epoch - 12ms/step\n",
            "Epoch 18/50\n",
            "1/1 - 0s - loss: 1.2296 - accuracy: 0.6000 - 12ms/epoch - 12ms/step\n",
            "Epoch 19/50\n",
            "1/1 - 0s - loss: 1.1841 - accuracy: 0.6000 - 14ms/epoch - 14ms/step\n",
            "Epoch 20/50\n",
            "1/1 - 0s - loss: 1.1416 - accuracy: 0.6000 - 13ms/epoch - 13ms/step\n",
            "Epoch 21/50\n",
            "1/1 - 0s - loss: 1.0994 - accuracy: 0.6000 - 12ms/epoch - 12ms/step\n",
            "Epoch 22/50\n",
            "1/1 - 0s - loss: 1.0561 - accuracy: 0.6000 - 11ms/epoch - 11ms/step\n",
            "Epoch 23/50\n",
            "1/1 - 0s - loss: 1.0132 - accuracy: 0.6000 - 12ms/epoch - 12ms/step\n",
            "Epoch 24/50\n",
            "1/1 - 0s - loss: 0.9722 - accuracy: 0.7000 - 12ms/epoch - 12ms/step\n",
            "Epoch 25/50\n",
            "1/1 - 0s - loss: 0.9326 - accuracy: 0.7000 - 12ms/epoch - 12ms/step\n",
            "Epoch 26/50\n",
            "1/1 - 0s - loss: 0.8934 - accuracy: 0.7000 - 14ms/epoch - 14ms/step\n",
            "Epoch 27/50\n",
            "1/1 - 0s - loss: 0.8547 - accuracy: 0.6000 - 13ms/epoch - 13ms/step\n",
            "Epoch 28/50\n",
            "1/1 - 0s - loss: 0.8176 - accuracy: 0.6000 - 13ms/epoch - 13ms/step\n",
            "Epoch 29/50\n",
            "1/1 - 0s - loss: 0.7827 - accuracy: 0.7000 - 13ms/epoch - 13ms/step\n",
            "Epoch 30/50\n",
            "1/1 - 0s - loss: 0.7498 - accuracy: 0.8000 - 11ms/epoch - 11ms/step\n",
            "Epoch 31/50\n",
            "1/1 - 0s - loss: 0.7186 - accuracy: 0.8000 - 12ms/epoch - 12ms/step\n",
            "Epoch 32/50\n",
            "1/1 - 0s - loss: 0.6895 - accuracy: 0.8000 - 13ms/epoch - 13ms/step\n",
            "Epoch 33/50\n",
            "1/1 - 0s - loss: 0.6629 - accuracy: 0.8000 - 14ms/epoch - 14ms/step\n",
            "Epoch 34/50\n",
            "1/1 - 0s - loss: 0.6388 - accuracy: 0.8000 - 13ms/epoch - 13ms/step\n",
            "Epoch 35/50\n",
            "1/1 - 0s - loss: 0.6166 - accuracy: 0.8000 - 14ms/epoch - 14ms/step\n",
            "Epoch 36/50\n",
            "1/1 - 0s - loss: 0.5959 - accuracy: 0.8000 - 12ms/epoch - 12ms/step\n",
            "Epoch 37/50\n",
            "1/1 - 0s - loss: 0.5768 - accuracy: 0.8000 - 16ms/epoch - 16ms/step\n",
            "Epoch 38/50\n",
            "1/1 - 0s - loss: 0.5591 - accuracy: 0.8000 - 15ms/epoch - 15ms/step\n",
            "Epoch 39/50\n",
            "1/1 - 0s - loss: 0.5427 - accuracy: 0.8000 - 15ms/epoch - 15ms/step\n",
            "Epoch 40/50\n",
            "1/1 - 0s - loss: 0.5275 - accuracy: 0.8000 - 14ms/epoch - 14ms/step\n",
            "Epoch 41/50\n",
            "1/1 - 0s - loss: 0.5132 - accuracy: 0.8000 - 14ms/epoch - 14ms/step\n",
            "Epoch 42/50\n",
            "1/1 - 0s - loss: 0.4997 - accuracy: 0.8000 - 13ms/epoch - 13ms/step\n",
            "Epoch 43/50\n",
            "1/1 - 0s - loss: 0.4868 - accuracy: 0.8000 - 12ms/epoch - 12ms/step\n",
            "Epoch 44/50\n",
            "1/1 - 0s - loss: 0.4745 - accuracy: 0.8000 - 13ms/epoch - 13ms/step\n",
            "Epoch 45/50\n",
            "1/1 - 0s - loss: 0.4630 - accuracy: 0.8000 - 12ms/epoch - 12ms/step\n",
            "Epoch 46/50\n",
            "1/1 - 0s - loss: 0.4521 - accuracy: 0.8000 - 12ms/epoch - 12ms/step\n",
            "Epoch 47/50\n",
            "1/1 - 0s - loss: 0.4417 - accuracy: 0.8000 - 12ms/epoch - 12ms/step\n",
            "Epoch 48/50\n",
            "1/1 - 0s - loss: 0.4318 - accuracy: 0.8000 - 17ms/epoch - 17ms/step\n",
            "Epoch 49/50\n",
            "1/1 - 0s - loss: 0.4224 - accuracy: 0.8000 - 12ms/epoch - 12ms/step\n",
            "Epoch 50/50\n",
            "1/1 - 0s - loss: 0.4137 - accuracy: 0.8000 - 12ms/epoch - 12ms/step\n"
          ]
        },
        {
          "output_type": "execute_result",
          "data": {
            "text/plain": [
              "<keras.src.callbacks.History at 0x7f453c0ff940>"
            ]
          },
          "metadata": {},
          "execution_count": 2
        }
      ]
    },
    {
      "cell_type": "code",
      "source": [
        "# Generating text using the trained model\n",
        "seed_text = input(\"Enter the starting word: \")\n",
        "next_words = int(input(\"Enter how many words to predict: \"))\n",
        "\n",
        "for _ in range(next_words):\n",
        "    tokenized_seed = tokenizer.texts_to_sequences([seed_text])[0]\n",
        "    tokenized_seed = pad_sequences([tokenized_seed], maxlen=max_sequence_length-1, padding='pre')\n",
        "    predicted_word_index = np.argmax(model.predict(tokenized_seed), axis=-1)\n",
        "    predicted_word = tokenizer.index_word[predicted_word_index[0]]\n",
        "    seed_text += \" \" + predicted_word\n",
        "\n",
        "print(seed_text)"
      ],
      "metadata": {
        "colab": {
          "base_uri": "https://localhost:8080/"
        },
        "id": "At2DzsRtTCIa",
        "outputId": "43cd5b3c-2dec-4140-e8c0-79258711bfff"
      },
      "execution_count": 3,
      "outputs": [
        {
          "output_type": "stream",
          "name": "stdout",
          "text": [
            "Enter the starting word: i love\n",
            "Enter how many words to predict: 4\n",
            "1/1 [==============================] - 0s 285ms/step\n",
            "1/1 [==============================] - 0s 22ms/step\n",
            "1/1 [==============================] - 0s 22ms/step\n",
            "1/1 [==============================] - 0s 23ms/step\n",
            "i love learning love are powerful\n"
          ]
        }
      ]
    }
  ]
}